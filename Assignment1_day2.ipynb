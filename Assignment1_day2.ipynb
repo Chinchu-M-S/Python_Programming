{
 "cells": [
  {
   "cell_type": "markdown",
   "id": "a73ea0b1",
   "metadata": {},
   "source": [
    "# ## Question 1"
   ]
  },
  {
   "cell_type": "code",
   "execution_count": 1,
   "id": "ef16b902",
   "metadata": {},
   "outputs": [
    {
     "name": "stdout",
     "output_type": "stream",
     "text": [
      "Enter your name : chinchu\n",
      "Enter the roll number : 21\n",
      "Enter the mark : 80\n",
      "\n",
      "Name : chinchu\n",
      "Roll number : 21\n",
      "Mark : 80\n"
     ]
    }
   ],
   "source": [
    "name=input(\"Enter your name : \")\n",
    "rno=int(input(\"Enter the roll number : \"))\n",
    "m=int(input(\"Enter the mark : \"))\n",
    "print('\\nName :',name)\n",
    "print('Roll number :',rno)\n",
    "print('Mark :',m)"
   ]
  },
  {
   "cell_type": "markdown",
   "id": "16dc0d83",
   "metadata": {},
   "source": [
    "# #Question 2"
   ]
  },
  {
   "cell_type": "code",
   "execution_count": 2,
   "id": "e5ad66c5",
   "metadata": {},
   "outputs": [
    {
     "name": "stdout",
     "output_type": "stream",
     "text": [
      "enter temperature in celcius: 8\n",
      "temperature in fahrenheit is 46.4\n"
     ]
    }
   ],
   "source": [
    "c=float(input('enter temperature in celcius: '))\n",
    "print('temperature in fahrenheit is', c*(9/5)+32)"
   ]
  },
  {
   "cell_type": "markdown",
   "id": "b66f6370",
   "metadata": {},
   "source": [
    "# # Question 3"
   ]
  },
  {
   "cell_type": "code",
   "execution_count": 3,
   "id": "334012f7",
   "metadata": {},
   "outputs": [
    {
     "name": "stdout",
     "output_type": "stream",
     "text": [
      "Enter the first number : 8\n",
      "Enter the second number : 7\n",
      "The product is : 56\n"
     ]
    }
   ],
   "source": [
    "a=int(input('Enter the first number : '))\n",
    "b=int(input('Enter the second number : '))\n",
    "print('The product is :',a*b)"
   ]
  },
  {
   "cell_type": "markdown",
   "id": "33b8346d",
   "metadata": {},
   "source": [
    "# # Question 4"
   ]
  },
  {
   "cell_type": "code",
   "execution_count": 44,
   "id": "96e0f97e",
   "metadata": {},
   "outputs": [
    {
     "name": "stdout",
     "output_type": "stream",
     "text": [
      "Enter String : Learn Python by developing a website\n",
      "\n",
      "\n",
      "Learn**Python**by**developing**a**website**"
     ]
    }
   ],
   "source": [
    "st=input('Enter String : ')\n",
    "print('\\n')\n",
    "for word in st.split():\n",
    "    print(word+'**',end='')  "
   ]
  },
  {
   "cell_type": "markdown",
   "id": "28a02aa2",
   "metadata": {},
   "source": [
    "# # Question 5"
   ]
  },
  {
   "cell_type": "code",
   "execution_count": 4,
   "id": "320eca92",
   "metadata": {},
   "outputs": [
    {
     "name": "stdout",
     "output_type": "stream",
     "text": [
      "Enter the radius of circle : 4\n",
      "The area of circle is : 50.26548245743669\n"
     ]
    }
   ],
   "source": [
    "import math\n",
    "r=int(input('Enter the radius of circle : '))\n",
    "print('The area of circle is :',math.pi*r*r)"
   ]
  },
  {
   "cell_type": "markdown",
   "id": "6fd5462b",
   "metadata": {},
   "source": [
    "# # Question 6"
   ]
  },
  {
   "cell_type": "code",
   "execution_count": 5,
   "id": "c78e935c",
   "metadata": {},
   "outputs": [
    {
     "name": "stdout",
     "output_type": "stream",
     "text": [
      "Enter the position : 3\n",
      "Enter the number : 2\n"
     ]
    },
    {
     "data": {
      "text/plain": [
       "[1, 2, 3, 2, 4, 5]"
      ]
     },
     "execution_count": 5,
     "metadata": {},
     "output_type": "execute_result"
    }
   ],
   "source": [
    "li=[1,2,3,4,5]\n",
    "i=int(input('Enter the position : '))\n",
    "num=int(input('Enter the number : '))\n",
    "x=len(li)\n",
    "if i<x:\n",
    "\n",
    "    li.insert(i,num)\n",
    "li"
   ]
  },
  {
   "cell_type": "markdown",
   "id": "d7477857",
   "metadata": {},
   "source": [
    "# # Question 7"
   ]
  },
  {
   "cell_type": "code",
   "execution_count": 6,
   "id": "8b284922",
   "metadata": {},
   "outputs": [
    {
     "name": "stdout",
     "output_type": "stream",
     "text": [
      "Before changing key\n",
      " {'name': 'John', 'age': 5, 'salary': 8000, 'city': 'New York'}\n",
      "\n",
      "After changing the key\n",
      " {'name': 'John', 'age': 5, 'salary': 8000, 'loc': 'New York'}\n"
     ]
    }
   ],
   "source": [
    "dic={'name':'John','age':5,'salary':8000,'city':'New York'}\n",
    "print('Before changing key\\n',dic)\n",
    "dic['loc']=dic['city']\n",
    "del dic['city']\n",
    "print('\\nAfter changing the key\\n',dic)"
   ]
  },
  {
   "cell_type": "markdown",
   "id": "7792e6ba",
   "metadata": {},
   "source": [
    "# # Question 8"
   ]
  },
  {
   "cell_type": "code",
   "execution_count": 7,
   "id": "84ace120",
   "metadata": {},
   "outputs": [
    {
     "name": "stdout",
     "output_type": "stream",
     "text": [
      "before update\n",
      " {'emp1': {'name': 'John', 'salary': 7500}, 'emp2': {'name': 'Emma', 'salary': 8000}, 'emp3': {'name': 'Brad', 'salary': 500}}\n",
      "\n",
      "after update\n",
      " {'emp1': {'name': 'John', 'salary': 7500}, 'emp2': {'name': 'Emma', 'salary': 8000}, 'emp3': {'name': 'Brad', 'salary': 8500}}\n"
     ]
    }
   ],
   "source": [
    "di={'emp1': {'name': 'John', 'salary': 7500},\n",
    "'emp2': {'name': 'Emma', 'salary': 8000},\n",
    "'emp3': {'name': 'Brad', 'salary': 500}}\n",
    "print('before update\\n',di)\n",
    "di['emp3']['salary']=8500\n",
    "print('\\nafter update\\n',di)"
   ]
  },
  {
   "cell_type": "markdown",
   "id": "8c0b237e",
   "metadata": {},
   "source": [
    "# # Queation 9"
   ]
  },
  {
   "cell_type": "code",
   "execution_count": 8,
   "id": "11e1e0e0",
   "metadata": {},
   "outputs": [
    {
     "data": {
      "text/plain": [
       "(43, 54)"
      ]
     },
     "execution_count": 8,
     "metadata": {},
     "output_type": "execute_result"
    }
   ],
   "source": [
    "t=(10,20,43,54,56,68)\n",
    "t1=(t[2],t[3])\n",
    "t1"
   ]
  },
  {
   "cell_type": "code",
   "execution_count": null,
   "id": "c20250d3",
   "metadata": {},
   "outputs": [],
   "source": []
  },
  {
   "cell_type": "markdown",
   "id": "6102d04f",
   "metadata": {},
   "source": [
    "# # Question 10"
   ]
  },
  {
   "cell_type": "code",
   "execution_count": 9,
   "id": "6b0a4e24",
   "metadata": {},
   "outputs": [
    {
     "data": {
      "text/plain": [
       "3"
      ]
     },
     "execution_count": 9,
     "metadata": {},
     "output_type": "execute_result"
    }
   ],
   "source": [
    "tup=(50,10,60,70,50,83,567,50,81)\n",
    "tup.count(50)"
   ]
  }
 ],
 "metadata": {
  "kernelspec": {
   "display_name": "Python 3 (ipykernel)",
   "language": "python",
   "name": "python3"
  },
  "language_info": {
   "codemirror_mode": {
    "name": "ipython",
    "version": 3
   },
   "file_extension": ".py",
   "mimetype": "text/x-python",
   "name": "python",
   "nbconvert_exporter": "python",
   "pygments_lexer": "ipython3",
   "version": "3.9.13"
  }
 },
 "nbformat": 4,
 "nbformat_minor": 5
}
