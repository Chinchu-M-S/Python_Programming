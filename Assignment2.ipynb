{
 "cells": [
  {
   "cell_type": "markdown",
   "id": "6c6419fb",
   "metadata": {},
   "source": [
    "## Question 1"
   ]
  },
  {
   "cell_type": "code",
   "execution_count": 1,
   "id": "0e364ed4",
   "metadata": {},
   "outputs": [
    {
     "name": "stdout",
     "output_type": "stream",
     "text": [
      "Enter the mark: 90\n",
      "Your grade is A\n"
     ]
    }
   ],
   "source": [
    "mrk=int(input('Enter the mark: '))\n",
    "if mrk<25:\n",
    "    print('Your grade is F')\n",
    "elif mrk>=25 and mrk<45:\n",
    "    print('Your grade is E')\n",
    "elif mrk>=45 and mrk<50:\n",
    "    print('Your grade is D')\n",
    "elif mrk>=50 and mrk<60:\n",
    "    print('Your grade is C')\n",
    "elif mrk>=60 and mrk<80:\n",
    "    print('Your grade is B')\n",
    "elif mrk>=80:\n",
    "    print('Your grade is A')\n",
    "else:\n",
    "    print('enter valid value')\n",
    "    "
   ]
  },
  {
   "cell_type": "markdown",
   "id": "e2c782bd",
   "metadata": {},
   "source": [
    "## Question 2"
   ]
  },
  {
   "cell_type": "code",
   "execution_count": 2,
   "id": "31fc5e87",
   "metadata": {},
   "outputs": [
    {
     "name": "stdout",
     "output_type": "stream",
     "text": [
      "john\n",
      "peter\n",
      "meera\n",
      "mini\n",
      "krishna\n"
     ]
    }
   ],
   "source": [
    "s=['john','peter','meera','mini','krishna']\n",
    "\n",
    "for i in s:\n",
    "    wrd=i\n",
    "    x=0\n",
    "    for j in wrd:\n",
    "        x=wrd.count(j)\n",
    "    if x>=1:\n",
    "        print(wrd)"
   ]
  },
  {
   "cell_type": "markdown",
   "id": "f011ec22",
   "metadata": {},
   "source": [
    "## Question 3"
   ]
  },
  {
   "cell_type": "code",
   "execution_count": 3,
   "id": "faa4e8bc",
   "metadata": {},
   "outputs": [
    {
     "name": "stdout",
     "output_type": "stream",
     "text": [
      "enter the length and width of rectange: 5 5\n",
      "it is a square\n"
     ]
    }
   ],
   "source": [
    "l,wid=map(int,input('enter the length and width of rectange: ').split())\n",
    "if l==wid:\n",
    "    print('it is a square')\n",
    "else:\n",
    "    print('it is not a square')"
   ]
  },
  {
   "cell_type": "markdown",
   "id": "eeae3378",
   "metadata": {},
   "source": [
    "## Question 4"
   ]
  },
  {
   "cell_type": "code",
   "execution_count": 4,
   "id": "db484d37",
   "metadata": {},
   "outputs": [
    {
     "name": "stdout",
     "output_type": "stream",
     "text": [
      "Enter the total number of classes held: 100\n",
      "Enter the number of classes presented: 70\n",
      "\n",
      "Not eligible for attending the exam\n"
     ]
    }
   ],
   "source": [
    "tot=int(input('Enter the total number of classes held: '))\n",
    "p=int(input('Enter the number of classes presented: '))\n",
    "x=(p/tot)*100\n",
    "if x>=75:\n",
    "    print('\\nPrecentage of attendance is',x,'is eligible for attending the exam')\n",
    "else:\n",
    "    print('\\nNot eligible for attending the exam')"
   ]
  },
  {
   "cell_type": "markdown",
   "id": "29ddb66b",
   "metadata": {},
   "source": [
    "## Question 5"
   ]
  },
  {
   "cell_type": "code",
   "execution_count": 5,
   "id": "162281c5",
   "metadata": {},
   "outputs": [
    {
     "name": "stdout",
     "output_type": "stream",
     "text": [
      "enter the limit of list: 10\n",
      "Enter elements:11\n",
      "Enter elements:12\n",
      "Enter elements:13\n",
      "Enter elements:14\n",
      "Enter elements:15\n",
      "Enter elements:1\n",
      "Enter elements:2\n",
      "Enter elements:3\n",
      "Enter elements:4\n",
      "Enter elements:5\n",
      "\n",
      "sum is 80\n",
      "Even list is\n",
      " [12, 14, 2, 4]\n",
      "Odd list is\n",
      " [11, 13, 15, 1, 3, 5]\n"
     ]
    }
   ],
   "source": [
    "l=[]\n",
    "n=int(input('enter the limit of list: '))\n",
    "for j in range(0,n):\n",
    "    x=int(input('Enter elements:'))\n",
    "    l.append(x)\n",
    "\n",
    "s=sum(l)\n",
    "print('\\nsum is',+s)\n",
    "evl=[]\n",
    "oddl=[]\n",
    "for i in l:\n",
    "    if i%2==0:\n",
    "        evl.append(i)\n",
    "    else:\n",
    "        oddl.append(i)\n",
    "print('Even list is\\n',evl)\n",
    "print('Odd list is\\n',oddl)"
   ]
  },
  {
   "cell_type": "markdown",
   "id": "af937d9f",
   "metadata": {},
   "source": [
    "## Question 6"
   ]
  },
  {
   "cell_type": "code",
   "execution_count": 6,
   "id": "8d037a63",
   "metadata": {},
   "outputs": [
    {
     "name": "stdout",
     "output_type": "stream",
     "text": [
      "Welcome to ICTAK\n",
      "Enter Quit to stop: morning\n",
      "Good morning\n",
      "Enter Quit to stop: duration\n",
      "Please vist wwww.ictak.org for more details\n",
      "Enter Quit to stop: quit\n",
      "See you later!\n"
     ]
    }
   ],
   "source": [
    "print('Welcome to ICTAK')\n",
    "\n",
    "while True:\n",
    "    x = input('Enter Quit to stop: ')\n",
    "    x=x.lower()\n",
    "    if x =='quit':\n",
    "        print('See you later!')\n",
    "        break\n",
    "    y=x.split()\n",
    "    if len(y)==0:\n",
    "        print('Please give a valid input')\n",
    "    elif 'morning' in y:\n",
    "        print('Good morning')\n",
    "    elif 'course' in y:\n",
    "        print('Please vist wwww.ictak.org for more details')\n",
    "    elif 'python' in y:\n",
    "        print('Yes we have a Python course, Please visit wwww.ictak.org for more deails')\n",
    "    elif 'duration' in y:\n",
    "        print('Please vist wwww.ictak.org for more details')\n",
    "    else:\n",
    "        print('Please use another option')"
   ]
  },
  {
   "cell_type": "markdown",
   "id": "6ee3b793",
   "metadata": {},
   "source": [
    "## Question 7"
   ]
  },
  {
   "cell_type": "code",
   "execution_count": 7,
   "id": "7d750305",
   "metadata": {},
   "outputs": [
    {
     "name": "stdout",
     "output_type": "stream",
     "text": [
      "Enter the coefficient of x^2:2\n",
      "Enter the coefficient of x:-7\n",
      "Enter the constant:3\n",
      "roots are (3+0j) (0.5+0j)\n"
     ]
    }
   ],
   "source": [
    "import cmath\n",
    "a=int(input('Enter the coefficient of x^2:'))\n",
    "b=int(input('Enter the coefficient of x:'))\n",
    "c=int(input('Enter the constant:'))\n",
    "d=(b*b)-(4*a*c)\n",
    "if d==0:\n",
    "    r1=(-b)/(2*a)\n",
    "    print('roots are equal and root is',r1)\n",
    "elif d>0:\n",
    "    r1=((-b)+cmath.sqrt(d))/(2*a)\n",
    "    r2=((-b)-cmath.sqrt(d))/(2*a)\n",
    "    print('roots are',r1,r2)\n",
    "elif d<0:\n",
    "    print('no real root exists')\n",
    "    \n",
    "#2x^2-7x+3=0\n",
    "#2x^2+x-4=0\n",
    "#2x^2+x+4=0"
   ]
  },
  {
   "cell_type": "markdown",
   "id": "ef20d3a1",
   "metadata": {},
   "source": [
    "## Question 8"
   ]
  },
  {
   "cell_type": "code",
   "execution_count": 8,
   "id": "fd2d5aaa",
   "metadata": {},
   "outputs": [
    {
     "name": "stdout",
     "output_type": "stream",
     "text": [
      "previous number is 0 present number is 1 sum is 1\n",
      "previous number is 1 present number is 2 sum is 3\n",
      "previous number is 2 present number is 3 sum is 5\n",
      "previous number is 3 present number is 4 sum is 7\n",
      "previous number is 4 present number is 5 sum is 9\n",
      "previous number is 5 present number is 6 sum is 11\n",
      "previous number is 6 present number is 7 sum is 13\n",
      "previous number is 7 present number is 8 sum is 15\n",
      "previous number is 8 present number is 9 sum is 17\n",
      "previous number is 9 present number is 10 sum is 19\n"
     ]
    }
   ],
   "source": [
    "for i in range(0,10):\n",
    "    j=i+1\n",
    "    print('previous number is',i,'present number is',j,'sum is',i+j)\n",
    "        "
   ]
  },
  {
   "cell_type": "markdown",
   "id": "bd8cbe74",
   "metadata": {},
   "source": [
    "## Question 9"
   ]
  },
  {
   "cell_type": "code",
   "execution_count": 11,
   "id": "9eff453c",
   "metadata": {},
   "outputs": [
    {
     "name": "stdout",
     "output_type": "stream",
     "text": [
      "enter the limit:10\n",
      "2 3 5 7 "
     ]
    }
   ],
   "source": [
    "lim=int(input('enter the limit:'))\n",
    "for i in range(1,lim):\n",
    "    if i>1:\n",
    "        for j in range(2,i):\n",
    "            if i%j==0:\n",
    "                break\n",
    "        else:\n",
    "                print(i,end=' ')"
   ]
  },
  {
   "cell_type": "markdown",
   "id": "a415e6e7",
   "metadata": {},
   "source": [
    "## Question 10"
   ]
  },
  {
   "cell_type": "code",
   "execution_count": 13,
   "id": "6a65aab0",
   "metadata": {},
   "outputs": [
    {
     "name": "stdout",
     "output_type": "stream",
     "text": [
      "Enter the range: 10\n",
      "0 1 1 2 3 5 8 13 21 34 "
     ]
    }
   ],
   "source": [
    "n=int(input('Enter the range: '))\n",
    "a=0\n",
    "b=1\n",
    "c=0\n",
    "if n<=0:\n",
    "    print('Enter valide range.')\n",
    "elif n==1:\n",
    "    print(a)\n",
    "else:\n",
    "    print(a,end=' ')\n",
    "    print(b,end=' ')\n",
    "    while c<n-2:\n",
    "        s=a+b\n",
    "        print(s,end=' ')\n",
    "        a=b\n",
    "        b=s\n",
    "        c=c+1\n"
   ]
  },
  {
   "cell_type": "code",
   "execution_count": null,
   "id": "aafe1770",
   "metadata": {},
   "outputs": [],
   "source": []
  }
 ],
 "metadata": {
  "kernelspec": {
   "display_name": "Python 3 (ipykernel)",
   "language": "python",
   "name": "python3"
  },
  "language_info": {
   "codemirror_mode": {
    "name": "ipython",
    "version": 3
   },
   "file_extension": ".py",
   "mimetype": "text/x-python",
   "name": "python",
   "nbconvert_exporter": "python",
   "pygments_lexer": "ipython3",
   "version": "3.9.13"
  }
 },
 "nbformat": 4,
 "nbformat_minor": 5
}
