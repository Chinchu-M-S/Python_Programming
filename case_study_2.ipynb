{
 "cells": [
  {
   "cell_type": "markdown",
   "id": "a0b5a31e",
   "metadata": {},
   "source": [
    "## Question 1\n",
    "Write a Python function to sum all the numbers in a list. (Create a list and get list elements from user)"
   ]
  },
  {
   "cell_type": "code",
   "execution_count": 3,
   "id": "3aa59249",
   "metadata": {},
   "outputs": [
    {
     "name": "stdout",
     "output_type": "stream",
     "text": [
      "Enter the limit of list:5\n",
      "Enter the element:10\n",
      "Enter the element:20\n",
      "Enter the element:30\n",
      "Enter the element:40\n",
      "Enter the element:50\n"
     ]
    },
    {
     "data": {
      "text/plain": [
       "150"
      ]
     },
     "execution_count": 3,
     "metadata": {},
     "output_type": "execute_result"
    }
   ],
   "source": [
    "def sum(l):\n",
    "    s=0\n",
    "    for i in l:\n",
    "        s=s+i\n",
    "    return(s)\n",
    "\n",
    "lis=[]\n",
    "n=int(input('Enter the limit of list:'))\n",
    "for j in range(0,n):\n",
    "    e=int(input('Enter the element:'))\n",
    "    lis.append(e)\n",
    "sum(lis)"
   ]
  },
  {
   "cell_type": "markdown",
   "id": "affbcf29",
   "metadata": {},
   "source": [
    "## Question 2\n",
    "Write a Python function that checks whether a passed string is palindrome or not."
   ]
  },
  {
   "cell_type": "code",
   "execution_count": 17,
   "id": "855b8a0d",
   "metadata": {},
   "outputs": [
    {
     "name": "stdout",
     "output_type": "stream",
     "text": [
      "Enter a string:mom\n",
      "Palindrome\n"
     ]
    }
   ],
   "source": [
    "def pal(s):\n",
    "    r=s[::-1]\n",
    "    if s==r:\n",
    "        print('Palindrome')\n",
    "    else:\n",
    "        print('Not palindrome')\n",
    "\n",
    "st=input('Enter a string:')\n",
    "pal(st)"
   ]
  },
  {
   "cell_type": "markdown",
   "id": "db486f88",
   "metadata": {},
   "source": [
    "## Question 3\n",
    "\n",
    "Write a Python recursive function to find the Fibonacci series. Get the limit from the user"
   ]
  },
  {
   "cell_type": "code",
   "execution_count": 24,
   "id": "eea544b8",
   "metadata": {},
   "outputs": [
    {
     "name": "stdout",
     "output_type": "stream",
     "text": [
      "Enter a number:10\n",
      "0 1 1 2 3 5 8 13 21 34 "
     ]
    }
   ],
   "source": [
    "def fibi(n):\n",
    "    a=0\n",
    "    b=1\n",
    "    c=0\n",
    "    print(a,b,end=' ')\n",
    "    for i in range(0,n-2):\n",
    "        c=a+b\n",
    "        a=b\n",
    "        b=c\n",
    "        print(c,end=' ')\n",
    "num=int(input('Enter a number:'))\n",
    "fibi(num)"
   ]
  },
  {
   "cell_type": "markdown",
   "id": "dd8e5a9c",
   "metadata": {},
   "source": [
    "## Question 4\n",
    "\n",
    "Write a Python recursive function to print the multiplication table of given number"
   ]
  },
  {
   "cell_type": "code",
   "execution_count": 28,
   "id": "13ada05b",
   "metadata": {},
   "outputs": [
    {
     "name": "stdout",
     "output_type": "stream",
     "text": [
      "Enter a number:6\n",
      "Enter range of multiplication table:10\n",
      "1 x 6 = 6\n",
      "2 x 6 = 12\n",
      "3 x 6 = 18\n",
      "4 x 6 = 24\n",
      "5 x 6 = 30\n",
      "6 x 6 = 36\n",
      "7 x 6 = 42\n",
      "8 x 6 = 48\n",
      "9 x 6 = 54\n",
      "10 x 6 = 60\n"
     ]
    }
   ],
   "source": [
    "def mul(n,m):\n",
    "    for i in range(1,m+1):\n",
    "        print(i,'x',n,'=',i*n)\n",
    "    \n",
    "nu=int(input('Enter a number:'))\n",
    "r=int(input('Enter range of multiplication table:'))\n",
    "mul(nu,r)"
   ]
  },
  {
   "cell_type": "markdown",
   "id": "aede6e90",
   "metadata": {},
   "source": [
    "## Question 5\n",
    "\n",
    "Define a function which counts vowels and consonant in a word."
   ]
  },
  {
   "cell_type": "code",
   "execution_count": 45,
   "id": "6f86ffde",
   "metadata": {},
   "outputs": [
    {
     "name": "stdout",
     "output_type": "stream",
     "text": [
      "Enter a word:elephant\n",
      "count of vowels is 3\n",
      "count of consonats is 5\n"
     ]
    }
   ],
   "source": [
    "def countt(s):\n",
    "    v=0\n",
    "    c=0\n",
    "    for i in s:\n",
    "        if i=='a' or i=='e' or i=='i' or i=='o' or i=='u':\n",
    "            v=v+1\n",
    "        else:\n",
    "            c=c+1\n",
    "    print('count of vowels is',v)\n",
    "    print('count of consonats is',c)\n",
    "    \n",
    "word=input('Enter a word:')\n",
    "countt(word)"
   ]
  },
  {
   "cell_type": "markdown",
   "id": "61952e37",
   "metadata": {},
   "source": [
    "## Question 6\n",
    "Define a function that accepts lowercase words and returns uppercase words."
   ]
  },
  {
   "cell_type": "code",
   "execution_count": 40,
   "id": "91aa70f7",
   "metadata": {},
   "outputs": [
    {
     "name": "stdout",
     "output_type": "stream",
     "text": [
      "Enter words in lowercase:hello world\n",
      "HELLO WORLD\n"
     ]
    }
   ],
   "source": [
    "def upcase(s):\n",
    "    print(s.upper())\n",
    "\n",
    "ls=input('Enter words in lowercase:')\n",
    "upcase(ls)"
   ]
  },
  {
   "cell_type": "markdown",
   "id": "f96147e7",
   "metadata": {},
   "source": [
    "## Question 7\n",
    "Write a Python program to remove ‘None’ values from a given list using the lambda function. Given input = [12, 0, None, 23, None, -55, 234, 89, None, 0, 6, -12] Expected output = [12, 0, 23, -55, 234, 89, 0, 6, -12]"
   ]
  },
  {
   "cell_type": "code",
   "execution_count": 44,
   "id": "21cea14b",
   "metadata": {},
   "outputs": [
    {
     "name": "stdout",
     "output_type": "stream",
     "text": [
      "original list is\n",
      " [12, 0, 'None', 23, 'None', -55, 234, 89, 'None', 0, 6, -12]\n",
      "new list is \n",
      " [12, 0, 23, -55, 234, 89, 0, 6, -12]\n"
     ]
    }
   ],
   "source": [
    "l=[12, 0, 'None', 23, 'None', -55, 234, 89, 'None', 0, 6, -12]\n",
    "nl=list(filter(lambda i:i!='None',l))\n",
    "print('original list is\\n',l)\n",
    "print('new list is \\n',nl)"
   ]
  },
  {
   "cell_type": "markdown",
   "id": "a91d23d3",
   "metadata": {},
   "source": [
    "## Question 8"
   ]
  },
  {
   "cell_type": "raw",
   "id": "ac64d2e1",
   "metadata": {},
   "source": [
    "Write a Rectangle class in Python language, allowing you to build a rectangle with length and width attributes.\n",
    "a. Create a Perimeter() method to calculate the perimeter of the rectangle and a Area() method to calculate the area of the rectangle.\n",
    "b. Create a method display() that display the length, width, perimeter and area of an object created using an instantiation on rectangle class.\n",
    "c. Create a Parallelepiped child class inheriting from the Rectangle class and with a height attribute and another Volume() method to calculate the volume of the Parallelepiped."
   ]
  },
  {
   "cell_type": "code",
   "execution_count": 2,
   "id": "864d059f",
   "metadata": {},
   "outputs": [
    {
     "name": "stdout",
     "output_type": "stream",
     "text": [
      "Enter the length:6\n",
      "Enter the width:7\n",
      "Enter height:3\n",
      "\n",
      "Length is  6\n",
      "Width is  7\n",
      "perimeter is  26\n",
      "Area is  42\n",
      "\n",
      "volume is  126\n"
     ]
    }
   ],
   "source": [
    "class Rectangle:\n",
    "    def __init__(self,ln,br):\n",
    "        self.l=ln\n",
    "        self.b=br\n",
    "        \n",
    "    def perimeter(self):\n",
    "        self.p=2*(self.l+self.b)\n",
    "        \n",
    "    def area(self):\n",
    "        self.a=self.l*self.b\n",
    "        \n",
    "    def display(self):\n",
    "        print('\\nLength is ',self.l)\n",
    "        print('Width is ',self.b)\n",
    "        print('perimeter is ',self.p)\n",
    "        print('Area is ',self.a)\n",
    "class pipe(Rectangle):\n",
    "    def __init__(self,ln,br,hg):\n",
    "        self.l=ln\n",
    "        self.b=br\n",
    "        self.h=hg\n",
    "    def volume(self):\n",
    "        self.v=self.l*self.b*self.h\n",
    "        print('\\nvolume is ',self.v)\n",
    "        \n",
    "a=int(input('Enter the length:'))\n",
    "c=int(input('Enter the width:'))\n",
    "ht=int(input('Enter height:'))\n",
    "ob=Rectangle(a,c)\n",
    "ob.perimeter()\n",
    "ob.area()\n",
    "ob.display()\n",
    "ob1=pipe(a,c,ht)\n",
    "ob1.volume()"
   ]
  },
  {
   "cell_type": "markdown",
   "id": "bde1e26b",
   "metadata": {},
   "source": [
    "## Question 9\n",
    "\n"
   ]
  },
  {
   "cell_type": "raw",
   "id": "b7f02899",
   "metadata": {},
   "source": [
    "Create a Python class called BankAccount which represents a bank account, having as attributes: accountNumber (numeric type), name (name of the account owner as string type), balance.\n",
    "a. Create a constructor with parameters: accountNumber, name, balance.\n",
    "b. Create a Deposit() method which manages the deposit actions.\n",
    "c. Create a Withdrawal() method which manages withdrawals actions.\n",
    "d. Create an bankFees() method to apply the bank fees with a percentage of 5% of the balance account.\n",
    "e. Create a display() method to display account details.\n",
    "f. Give the complete code for the BankAccount class."
   ]
  },
  {
   "cell_type": "code",
   "execution_count": 4,
   "id": "002ab1f8",
   "metadata": {},
   "outputs": [
    {
     "name": "stdout",
     "output_type": "stream",
     "text": [
      "Enter the account number: 120\n",
      "Enter the name: sini\n",
      "Enter your Account balance: 5000\n",
      "\n",
      "Enter the amount to be added:500\n",
      "balance updated 5500\n",
      "\n",
      "Enter the amount to be debited:200\n",
      "withdrawed  200 new balance is 5300\n",
      "bank fee is:  265.0\n",
      "\n",
      "Acoount number:  120\n",
      "Name:  sini\n",
      "Account balance:  5300\n"
     ]
    }
   ],
   "source": [
    "class Bankaccount:\n",
    "    def __init__(self,acno,nme,bal):\n",
    "        self.ano=acno\n",
    "        self.name=nme\n",
    "        self.bal=bal\n",
    "    def deposit(self,amt):\n",
    "        self.amount=amt\n",
    "        self.bal=self.bal+self.amount\n",
    "        print('balance updated',self.bal)\n",
    "    def withdrawal(self,amnt):\n",
    "        self.amnt=amnt\n",
    "        self.bal=self.bal-self.amnt\n",
    "        print('withdrawed ',amnt,'new balance is',self.bal)\n",
    "    def bankfee(self):\n",
    "        self.fee=self.bal*(5/100)\n",
    "        print('bank fee is: ',self.fee)\n",
    "    def display(self):\n",
    "        print('\\nAcoount number: ',self.ano)\n",
    "        print('Name: ',self.name)\n",
    "        print('Account balance: ',self.bal)\n",
    "\n",
    "acnum=int(input('Enter the account number: '))\n",
    "n=input('Enter the name: ')\n",
    "b=int(input('Enter your Account balance: '))\n",
    "cash=int(input('\\nEnter the amount to be added:'))\n",
    "ob=Bankaccount(acnum,n,b)\n",
    "ob.deposit(cash)\n",
    "ca=int(input('\\nEnter the amount to be debited:'))\n",
    "ob.withdrawal(ca)\n",
    "ob.bankfee()\n",
    "ob.display()"
   ]
  },
  {
   "cell_type": "markdown",
   "id": "fdcbe0a1",
   "metadata": {},
   "source": [
    "## Question 10"
   ]
  },
  {
   "cell_type": "raw",
   "id": "f74847c1",
   "metadata": {},
   "source": [
    "10. Create a base class rectangle with attributes length and breadth, methods area and perimeter.\n",
    "a. Save the rectangle class as a python file rectangle.py file.\n",
    "b. Open another python script and import the rectangle.py file.\n",
    "c. In the newly created script derive a child class called Parallelepiped class inheriting from the Rectangle class and with a height attribute and another Volume() method to calculate the volume of the Parallelepiped.\n",
    "d. Now create objects for parent class and child class in newly created script and access methods of parent class and child class.\n",
    "(Upload the rectangle.py file and python script of question 10 as separate files in github and share the link Paatshala)"
   ]
  },
  {
   "cell_type": "code",
   "execution_count": 2,
   "id": "c57f3776",
   "metadata": {},
   "outputs": [
    {
     "ename": "ModuleNotFoundError",
     "evalue": "No module named 'Rectangle'",
     "output_type": "error",
     "traceback": [
      "\u001b[1;31m---------------------------------------------------------------------------\u001b[0m",
      "\u001b[1;31mModuleNotFoundError\u001b[0m                       Traceback (most recent call last)",
      "\u001b[1;32m~\\AppData\\Local\\Temp\\ipykernel_4644\\1690644109.py\u001b[0m in \u001b[0;36m<module>\u001b[1;34m\u001b[0m\n\u001b[1;32m----> 1\u001b[1;33m \u001b[1;32mimport\u001b[0m \u001b[0mRectangle\u001b[0m\u001b[1;33m.\u001b[0m\u001b[0mpy\u001b[0m\u001b[1;33m\u001b[0m\u001b[1;33m\u001b[0m\u001b[0m\n\u001b[0m\u001b[0;32m      2\u001b[0m \u001b[1;33m\u001b[0m\u001b[0m\n\u001b[0;32m      3\u001b[0m \u001b[1;32mclass\u001b[0m \u001b[0mpp\u001b[0m\u001b[1;33m(\u001b[0m\u001b[0mRectangle\u001b[0m\u001b[1;33m)\u001b[0m\u001b[1;33m:\u001b[0m\u001b[1;33m\u001b[0m\u001b[1;33m\u001b[0m\u001b[0m\n\u001b[0;32m      4\u001b[0m     \u001b[1;32mdef\u001b[0m \u001b[0m__init__\u001b[0m\u001b[1;33m(\u001b[0m\u001b[0mself\u001b[0m\u001b[1;33m,\u001b[0m\u001b[0mht\u001b[0m\u001b[1;33m)\u001b[0m\u001b[1;33m:\u001b[0m\u001b[1;33m\u001b[0m\u001b[1;33m\u001b[0m\u001b[0m\n\u001b[0;32m      5\u001b[0m         \u001b[0mself\u001b[0m\u001b[1;33m.\u001b[0m\u001b[0mh\u001b[0m\u001b[1;33m=\u001b[0m\u001b[0mht\u001b[0m\u001b[1;33m\u001b[0m\u001b[1;33m\u001b[0m\u001b[0m\n",
      "\u001b[1;31mModuleNotFoundError\u001b[0m: No module named 'Rectangle'"
     ]
    }
   ],
   "source": [
    "import Rectangle.py\n",
    "\n",
    "class pp(Rectangle):\n",
    "    def __init__(self,ht):\n",
    "        self.h=ht\n",
    "    def volume(self):\n",
    "        self.v=self.l*self.b*self.h\n",
    "        \n",
    "ob1=Rectangle(5,5)\n",
    "ob1.perimeter()\n",
    "ob1.area()\n",
    "ob1.display()\n"
   ]
  },
  {
   "cell_type": "code",
   "execution_count": null,
   "id": "1ecdb473",
   "metadata": {},
   "outputs": [],
   "source": []
  }
 ],
 "metadata": {
  "kernelspec": {
   "display_name": "Python 3 (ipykernel)",
   "language": "python",
   "name": "python3"
  },
  "language_info": {
   "codemirror_mode": {
    "name": "ipython",
    "version": 3
   },
   "file_extension": ".py",
   "mimetype": "text/x-python",
   "name": "python",
   "nbconvert_exporter": "python",
   "pygments_lexer": "ipython3",
   "version": "3.9.13"
  }
 },
 "nbformat": 4,
 "nbformat_minor": 5
}
